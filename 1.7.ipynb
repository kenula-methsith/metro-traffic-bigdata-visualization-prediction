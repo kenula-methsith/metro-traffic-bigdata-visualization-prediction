{
 "cells": [
  {
   "cell_type": "code",
   "execution_count": 1,
   "id": "6f3e04eb-a44c-4777-ba21-db2107ef32ec",
   "metadata": {},
   "outputs": [
    {
     "name": "stdout",
     "output_type": "stream",
     "text": [
      "Correlation of variables with target variable 'traffic_volume':\n",
      "  temp -> 0.1301612586472305\n",
      "  rain_1h -> 0.004715063474143636\n",
      "  snow_1h -> 0.0007362736333019227\n",
      "  clouds_all -> 0.06713824212718887\n"
     ]
    }
   ],
   "source": [
    "from pyspark.sql import SparkSession\n",
    "from pyspark.sql.functions import col\n",
    "\n",
    "# Step 1: Create a Spark session\n",
    "spark = SparkSession.builder \\\n",
    "    .appName(\"Correlation with Target Variable\") \\\n",
    "    .getOrCreate()\n",
    "\n",
    "# Step 2: Load the dataset\n",
    "file_path = r'C:\\Users\\thinu\\Desktop\\KENULA\\top-up\\data\\cleaned_transformed_dataset2.csv'\n",
    "data = spark.read.csv(file_path, header=True, inferSchema=True)\n",
    "\n",
    "# Step 3: Identify numeric columns\n",
    "numeric_columns = [column for column, dtype in data.dtypes if dtype in ('int', 'double','float')]\n",
    "\n",
    "\n",
    "# Specify the target variable\n",
    "target_variable = 'traffic_volume'\n",
    "\n",
    "# Step 4: Calculate correlation\n",
    "if target_variable in numeric_columns:\n",
    "    numeric_columns.remove(target_variable)\n",
    "\n",
    "print(f\"Correlation of variables with target variable '{target_variable}':\")\n",
    "for column in numeric_columns:\n",
    "    correlation = data.stat.corr(column, target_variable)\n",
    "    print(f\"  {column} -> {correlation}\")\n",
    "\n",
    "\n",
    "# Step 5: Stop the Spark session\n",
    "spark.stop()\n"
   ]
  },
  {
   "cell_type": "code",
   "execution_count": null,
   "id": "83818ba5-dd37-4dcf-a008-518c00430a4a",
   "metadata": {},
   "outputs": [],
   "source": []
  }
 ],
 "metadata": {
  "kernelspec": {
   "display_name": "Python 3",
   "language": "python",
   "name": "python3"
  },
  "language_info": {
   "codemirror_mode": {
    "name": "ipython",
    "version": 3
   },
   "file_extension": ".py",
   "mimetype": "text/x-python",
   "name": "python",
   "nbconvert_exporter": "python",
   "pygments_lexer": "ipython3",
   "version": "3.13.0"
  }
 },
 "nbformat": 4,
 "nbformat_minor": 5
}
