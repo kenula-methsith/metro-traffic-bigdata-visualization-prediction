{
 "cells": [
  {
   "cell_type": "code",
   "execution_count": 1,
   "id": "e44e5958-cd7f-445e-a2e6-6311828a55ce",
   "metadata": {},
   "outputs": [],
   "source": [
    "from pyspark.sql import SparkSession\n",
    "# Initialize a Spark session\n",
    "spark = SparkSession.builder.appName(\"TrafficVolumeAnalysis\").getOrCreate()"
   ]
  },
  {
   "cell_type": "code",
   "execution_count": 2,
   "id": "d897da9d-a344-4b99-922f-e6238c353e84",
   "metadata": {},
   "outputs": [
    {
     "name": "stdout",
     "output_type": "stream",
     "text": [
      "+-------+------+-------+-------+----------+------------+-------------------+---------------+--------------+\n",
      "|holiday|  temp|rain_1h|snow_1h|clouds_all|weather_main|weather_description|      date_time|traffic_volume|\n",
      "+-------+------+-------+-------+----------+------------+-------------------+---------------+--------------+\n",
      "|   None|288.28|      0|      0|        40|      Clouds|   scattered clouds| 10/2/2012 9:00|          5545|\n",
      "|   None|289.36|      0|      0|        75|      Clouds|      broken clouds|10/2/2012 10:00|          4516|\n",
      "|   None|289.58|      0|      0|        90|      Clouds|    overcast clouds|10/2/2012 11:00|          4767|\n",
      "|   None|290.13|      0|      0|        90|      Clouds|    overcast clouds|10/2/2012 12:00|          5026|\n",
      "|   None|291.14|      0|      0|        75|      Clouds|      broken clouds|10/2/2012 13:00|          4918|\n",
      "|   None|291.72|      0|      0|         1|       Clear|       sky is clear|10/2/2012 14:00|          5181|\n",
      "|   None|293.17|      0|      0|         1|       Clear|       sky is clear|10/2/2012 15:00|          5584|\n",
      "|   None|293.86|      0|      0|         1|       Clear|       sky is clear|10/2/2012 16:00|          6015|\n",
      "|   None|294.14|      0|      0|        20|      Clouds|         few clouds|10/2/2012 17:00|          5791|\n",
      "|   None| 293.1|      0|      0|        20|      Clouds|         few clouds|10/2/2012 18:00|          4770|\n",
      "+-------+------+-------+-------+----------+------------+-------------------+---------------+--------------+\n",
      "only showing top 10 rows\n",
      "\n"
     ]
    }
   ],
   "source": [
    "# Load the dataset into a PySpark DataFrame\n",
    "df = spark.read.csv(r'C:\\Users\\thinu\\Desktop\\KENULA\\top-up\\data\\Metro_Interstate_Traffic_Volume.csv', header=True)\n",
    "df.show(10)"
   ]
  },
  {
   "cell_type": "code",
   "execution_count": 3,
   "id": "6025f68b-b8dd-455d-9a5d-538ef9a66f88",
   "metadata": {},
   "outputs": [
    {
     "name": "stdout",
     "output_type": "stream",
     "text": [
      "root\n",
      " |-- holiday: string (nullable = true)\n",
      " |-- temp: string (nullable = true)\n",
      " |-- rain_1h: string (nullable = true)\n",
      " |-- snow_1h: string (nullable = true)\n",
      " |-- clouds_all: string (nullable = true)\n",
      " |-- weather_main: string (nullable = true)\n",
      " |-- weather_description: string (nullable = true)\n",
      " |-- date_time: string (nullable = true)\n",
      " |-- traffic_volume: string (nullable = true)\n",
      "\n"
     ]
    }
   ],
   "source": [
    "# Print the schema to understand data types\n",
    "df.printSchema()"
   ]
  },
  {
   "cell_type": "code",
   "execution_count": 7,
   "id": "cb5a261c-d4e4-483e-aac3-fd128fcfadc4",
   "metadata": {},
   "outputs": [
    {
     "name": "stdout",
     "output_type": "stream",
     "text": [
      "Null Counts Per Column\n",
      "+-------+----+-------+-------+----------+------------+-------------------+---------+--------------+\n",
      "|holiday|temp|rain_1h|snow_1h|clouds_all|weather_main|weather_description|date_time|traffic_volume|\n",
      "+-------+----+-------+-------+----------+------------+-------------------+---------+--------------+\n",
      "|      0|   0|      0|      0|         0|           0|                  0|        0|             0|\n",
      "+-------+----+-------+-------+----------+------------+-------------------+---------+--------------+\n",
      "\n",
      "Describe the dataset\n",
      "+-------+------------------+-------------------+--------------------+-----------------+-------------+------------------+\n",
      "|summary|              temp|            rain_1h|             snow_1h|       clouds_all|    date_time|    traffic_volume|\n",
      "+-------+------------------+-------------------+--------------------+-----------------+-------------+------------------+\n",
      "|  count|             48204|              48204|               48204|            48204|        48204|             48204|\n",
      "|   mean| 281.2058703012135|0.33426396149697535|2.223881835532321...|49.36223135009543|         NULL|3259.8183553232097|\n",
      "| stddev|13.338231912676308|  44.78913303693933|0.008167611205361601|39.01575046141368|         NULL|1986.8606704463612|\n",
      "|    min|                 0|                  0|                   0|                0|1/1/2013 0:00|                 0|\n",
      "|    max|            310.07|             9831.3|                0.51|               99|9/9/2018 9:00|               999|\n",
      "+-------+------------------+-------------------+--------------------+-----------------+-------------+------------------+\n",
      "\n"
     ]
    }
   ],
   "source": [
    "from pyspark.sql.functions import col, sum\n",
    "\n",
    "# print null or missing values\n",
    "print(\"Null Counts Per Column\")\n",
    "df.select([sum(col(c).isNull().cast(\"int\")).alias(c) for c in df.columns]).show()\n",
    "\n",
    "# Describe the dataset\n",
    "print(\"Describe the dataset\")\n",
    "df.select('temp','rain_1h','snow_1h','clouds_all','date_time','traffic_volume').describe().show()\n"
   ]
  },
  {
   "cell_type": "code",
   "execution_count": null,
   "id": "ba1041f4-ed32-47a1-b85b-c3e9d4244bc1",
   "metadata": {},
   "outputs": [],
   "source": []
  }
 ],
 "metadata": {
  "kernelspec": {
   "display_name": "Python 3",
   "language": "python",
   "name": "python3"
  },
  "language_info": {
   "codemirror_mode": {
    "name": "ipython",
    "version": 3
   },
   "file_extension": ".py",
   "mimetype": "text/x-python",
   "name": "python",
   "nbconvert_exporter": "python",
   "pygments_lexer": "ipython3",
   "version": "3.13.0"
  }
 },
 "nbformat": 4,
 "nbformat_minor": 5
}
